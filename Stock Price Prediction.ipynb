{
 "cells": [
  {
   "cell_type": "markdown",
   "id": "9b3178a6-c294-4f2e-9f3a-c8497e48921a",
   "metadata": {},
   "source": [
    "# Stock Price Movement Prediction (S&P 500)\n",
    "\n",
    "This project predicts whether the **S&P 500 index will go up or down tomorrow** using machine learning.  \n",
    "We compare **Logistic Regression** (baseline) and **Random Forest** (ensemble model).  \n",
    "\n",
    "---\n",
    "\n",
    "## Step 1: Install & Import Libraries\n"
   ]
  },
  {
   "cell_type": "code",
   "execution_count": 2,
   "id": "6fcb8574-c9d2-4006-a438-9312e49886b2",
   "metadata": {},
   "outputs": [
    {
     "name": "stdout",
     "output_type": "stream",
     "text": [
      "Requirement already satisfied: yfinance in c:\\users\\hardikhari\\anaconda3\\lib\\site-packages (0.2.65)\n",
      "Requirement already satisfied: pandas>=1.3.0 in c:\\users\\hardikhari\\anaconda3\\lib\\site-packages (from yfinance) (2.2.3)\n",
      "Requirement already satisfied: numpy>=1.16.5 in c:\\users\\hardikhari\\anaconda3\\lib\\site-packages (from yfinance) (2.1.3)\n",
      "Requirement already satisfied: requests>=2.31 in c:\\users\\hardikhari\\anaconda3\\lib\\site-packages (from yfinance) (2.32.3)\n",
      "Requirement already satisfied: multitasking>=0.0.7 in c:\\users\\hardikhari\\anaconda3\\lib\\site-packages (from yfinance) (0.0.12)\n",
      "Requirement already satisfied: platformdirs>=2.0.0 in c:\\users\\hardikhari\\anaconda3\\lib\\site-packages (from yfinance) (4.3.7)\n",
      "Requirement already satisfied: pytz>=2022.5 in c:\\users\\hardikhari\\anaconda3\\lib\\site-packages (from yfinance) (2024.1)\n",
      "Requirement already satisfied: frozendict>=2.3.4 in c:\\users\\hardikhari\\anaconda3\\lib\\site-packages (from yfinance) (2.4.2)\n",
      "Requirement already satisfied: peewee>=3.16.2 in c:\\users\\hardikhari\\anaconda3\\lib\\site-packages (from yfinance) (3.18.2)\n",
      "Requirement already satisfied: beautifulsoup4>=4.11.1 in c:\\users\\hardikhari\\anaconda3\\lib\\site-packages (from yfinance) (4.12.3)\n",
      "Requirement already satisfied: curl_cffi>=0.7 in c:\\users\\hardikhari\\anaconda3\\lib\\site-packages (from yfinance) (0.13.0)\n",
      "Requirement already satisfied: protobuf>=3.19.0 in c:\\users\\hardikhari\\anaconda3\\lib\\site-packages (from yfinance) (5.29.3)\n",
      "Requirement already satisfied: websockets>=13.0 in c:\\users\\hardikhari\\anaconda3\\lib\\site-packages (from yfinance) (15.0.1)\n",
      "Requirement already satisfied: soupsieve>1.2 in c:\\users\\hardikhari\\anaconda3\\lib\\site-packages (from beautifulsoup4>=4.11.1->yfinance) (2.5)\n",
      "Requirement already satisfied: cffi>=1.12.0 in c:\\users\\hardikhari\\anaconda3\\lib\\site-packages (from curl_cffi>=0.7->yfinance) (1.17.1)\n",
      "Requirement already satisfied: certifi>=2024.2.2 in c:\\users\\hardikhari\\anaconda3\\lib\\site-packages (from curl_cffi>=0.7->yfinance) (2025.4.26)\n",
      "Requirement already satisfied: pycparser in c:\\users\\hardikhari\\anaconda3\\lib\\site-packages (from cffi>=1.12.0->curl_cffi>=0.7->yfinance) (2.21)\n",
      "Requirement already satisfied: python-dateutil>=2.8.2 in c:\\users\\hardikhari\\anaconda3\\lib\\site-packages (from pandas>=1.3.0->yfinance) (2.9.0.post0)\n",
      "Requirement already satisfied: tzdata>=2022.7 in c:\\users\\hardikhari\\anaconda3\\lib\\site-packages (from pandas>=1.3.0->yfinance) (2025.2)\n",
      "Requirement already satisfied: six>=1.5 in c:\\users\\hardikhari\\anaconda3\\lib\\site-packages (from python-dateutil>=2.8.2->pandas>=1.3.0->yfinance) (1.17.0)\n",
      "Requirement already satisfied: charset-normalizer<4,>=2 in c:\\users\\hardikhari\\anaconda3\\lib\\site-packages (from requests>=2.31->yfinance) (3.3.2)\n",
      "Requirement already satisfied: idna<4,>=2.5 in c:\\users\\hardikhari\\anaconda3\\lib\\site-packages (from requests>=2.31->yfinance) (3.7)\n",
      "Requirement already satisfied: urllib3<3,>=1.21.1 in c:\\users\\hardikhari\\anaconda3\\lib\\site-packages (from requests>=2.31->yfinance) (2.3.0)\n"
     ]
    }
   ],
   "source": [
    "!pip install yfinance\n",
    "\n",
    "import pandas as pd\n",
    "import matplotlib.pyplot as plt\n",
    "from sklearn.ensemble import RandomForestClassifier\n",
    "from sklearn.linear_model import LogisticRegression\n",
    "from sklearn.metrics import precision_score, classification_report\n",
    "import yfinance as yf\n"
   ]
  },
  {
   "cell_type": "markdown",
   "id": "3995a61a-98de-4d85-ad3a-586269769a64",
   "metadata": {},
   "source": [
    "## Step 2: Load Historical S&P 500 Data\n"
   ]
  },
  {
   "cell_type": "code",
   "execution_count": 3,
   "id": "0983ca3e-5846-4069-b011-11bf5c29ce9b",
   "metadata": {},
   "outputs": [
    {
     "data": {
      "text/html": [
       "<div>\n",
       "<style scoped>\n",
       "    .dataframe tbody tr th:only-of-type {\n",
       "        vertical-align: middle;\n",
       "    }\n",
       "\n",
       "    .dataframe tbody tr th {\n",
       "        vertical-align: top;\n",
       "    }\n",
       "\n",
       "    .dataframe thead th {\n",
       "        text-align: right;\n",
       "    }\n",
       "</style>\n",
       "<table border=\"1\" class=\"dataframe\">\n",
       "  <thead>\n",
       "    <tr style=\"text-align: right;\">\n",
       "      <th></th>\n",
       "      <th>Open</th>\n",
       "      <th>High</th>\n",
       "      <th>Low</th>\n",
       "      <th>Close</th>\n",
       "      <th>Volume</th>\n",
       "      <th>Dividends</th>\n",
       "      <th>Stock Splits</th>\n",
       "    </tr>\n",
       "    <tr>\n",
       "      <th>Date</th>\n",
       "      <th></th>\n",
       "      <th></th>\n",
       "      <th></th>\n",
       "      <th></th>\n",
       "      <th></th>\n",
       "      <th></th>\n",
       "      <th></th>\n",
       "    </tr>\n",
       "  </thead>\n",
       "  <tbody>\n",
       "    <tr>\n",
       "      <th>1990-01-02 00:00:00-05:00</th>\n",
       "      <td>353.399994</td>\n",
       "      <td>359.690002</td>\n",
       "      <td>351.980011</td>\n",
       "      <td>359.690002</td>\n",
       "      <td>162070000</td>\n",
       "      <td>0.0</td>\n",
       "      <td>0.0</td>\n",
       "    </tr>\n",
       "    <tr>\n",
       "      <th>1990-01-03 00:00:00-05:00</th>\n",
       "      <td>359.690002</td>\n",
       "      <td>360.589996</td>\n",
       "      <td>357.890015</td>\n",
       "      <td>358.760010</td>\n",
       "      <td>192330000</td>\n",
       "      <td>0.0</td>\n",
       "      <td>0.0</td>\n",
       "    </tr>\n",
       "    <tr>\n",
       "      <th>1990-01-04 00:00:00-05:00</th>\n",
       "      <td>358.760010</td>\n",
       "      <td>358.760010</td>\n",
       "      <td>352.890015</td>\n",
       "      <td>355.670013</td>\n",
       "      <td>177000000</td>\n",
       "      <td>0.0</td>\n",
       "      <td>0.0</td>\n",
       "    </tr>\n",
       "    <tr>\n",
       "      <th>1990-01-05 00:00:00-05:00</th>\n",
       "      <td>355.670013</td>\n",
       "      <td>355.670013</td>\n",
       "      <td>351.350006</td>\n",
       "      <td>352.200012</td>\n",
       "      <td>158530000</td>\n",
       "      <td>0.0</td>\n",
       "      <td>0.0</td>\n",
       "    </tr>\n",
       "    <tr>\n",
       "      <th>1990-01-08 00:00:00-05:00</th>\n",
       "      <td>352.200012</td>\n",
       "      <td>354.239990</td>\n",
       "      <td>350.540009</td>\n",
       "      <td>353.790009</td>\n",
       "      <td>140110000</td>\n",
       "      <td>0.0</td>\n",
       "      <td>0.0</td>\n",
       "    </tr>\n",
       "  </tbody>\n",
       "</table>\n",
       "</div>"
      ],
      "text/plain": [
       "                                 Open        High         Low       Close  \\\n",
       "Date                                                                        \n",
       "1990-01-02 00:00:00-05:00  353.399994  359.690002  351.980011  359.690002   \n",
       "1990-01-03 00:00:00-05:00  359.690002  360.589996  357.890015  358.760010   \n",
       "1990-01-04 00:00:00-05:00  358.760010  358.760010  352.890015  355.670013   \n",
       "1990-01-05 00:00:00-05:00  355.670013  355.670013  351.350006  352.200012   \n",
       "1990-01-08 00:00:00-05:00  352.200012  354.239990  350.540009  353.790009   \n",
       "\n",
       "                              Volume  Dividends  Stock Splits  \n",
       "Date                                                           \n",
       "1990-01-02 00:00:00-05:00  162070000        0.0           0.0  \n",
       "1990-01-03 00:00:00-05:00  192330000        0.0           0.0  \n",
       "1990-01-04 00:00:00-05:00  177000000        0.0           0.0  \n",
       "1990-01-05 00:00:00-05:00  158530000        0.0           0.0  \n",
       "1990-01-08 00:00:00-05:00  140110000        0.0           0.0  "
      ]
     },
     "execution_count": 3,
     "metadata": {},
     "output_type": "execute_result"
    }
   ],
   "source": [
    "sp500 = yf.Ticker(\"^GSPC\")\n",
    "sp500 = sp500.history(period=\"max\")\n",
    "sp500 = sp500.loc[\"1990-01-01\":].copy()\n",
    "sp500.head()\n"
   ]
  },
  {
   "cell_type": "markdown",
   "id": "5daf19a3-739d-44c3-a2b4-7e12c4dfc566",
   "metadata": {},
   "source": [
    "## Step 3: Feature Engineering\n"
   ]
  },
  {
   "cell_type": "code",
   "execution_count": 4,
   "id": "956ae8cb-f9fa-448d-bb06-ec81e85aee52",
   "metadata": {},
   "outputs": [],
   "source": [
    "sp500[\"Tomorrow\"] = sp500[\"Close\"].shift(-1)\n",
    "sp500[\"Target\"] = (sp500[\"Tomorrow\"] > sp500[\"Close\"]).astype(int)\n",
    "\n",
    "predictors = [\"Close\", \"Volume\", \"Open\", \"High\", \"Low\"]\n"
   ]
  },
  {
   "cell_type": "markdown",
   "id": "b76fa353-4e9d-4ecb-a203-ddd8f8c6cfe3",
   "metadata": {},
   "source": [
    "## Step 4: Helper Functions (Prediction & Backtesting)\n"
   ]
  },
  {
   "cell_type": "code",
   "execution_count": 5,
   "id": "95e3b25a-73bc-4d19-8ea9-de545380dc89",
   "metadata": {},
   "outputs": [],
   "source": [
    "def predict(train, test, predictors, model):\n",
    "    model.fit(train[predictors], train[\"Target\"])\n",
    "    preds = model.predict(test[predictors])\n",
    "    preds = pd.Series(preds, index=test.index)\n",
    "    return pd.DataFrame({\"Predictions\": preds, \"Target\": test[\"Target\"]})\n",
    "\n",
    "def backtest(data, model, predictors, start=2500, step=250):\n",
    "    all_predictions = []\n",
    "    for i in range(start, data.shape[0], step):\n",
    "        train = data.iloc[:i].copy()\n",
    "        test = data.iloc[i:(i+step)].copy()\n",
    "        preds = predict(train, test, predictors, model)\n",
    "        all_predictions.append(preds)\n",
    "    return pd.concat(all_predictions)\n"
   ]
  },
  {
   "cell_type": "markdown",
   "id": "a4918a09-2dd9-40c6-a65d-731b431e3842",
   "metadata": {},
   "source": [
    "## Step 5: Logistic Regression (Baseline)\n"
   ]
  },
  {
   "cell_type": "code",
   "execution_count": 6,
   "id": "0f281890-1c0a-49c7-af8d-eaa206db7cb0",
   "metadata": {},
   "outputs": [
    {
     "name": "stdout",
     "output_type": "stream",
     "text": [
      "Logistic Regression Results:\n",
      "              precision    recall  f1-score   support\n",
      "\n",
      "           0       0.48      0.08      0.14      3006\n",
      "           1       0.54      0.92      0.68      3482\n",
      "\n",
      "    accuracy                           0.53      6488\n",
      "   macro avg       0.51      0.50      0.41      6488\n",
      "weighted avg       0.51      0.53      0.43      6488\n",
      "\n"
     ]
    }
   ],
   "source": [
    "log_reg = LogisticRegression(max_iter=1000)\n",
    "log_reg_predictions = backtest(sp500, log_reg, predictors)\n",
    "\n",
    "print(\"Logistic Regression Results:\")\n",
    "print(classification_report(log_reg_predictions[\"Target\"], log_reg_predictions[\"Predictions\"]))\n"
   ]
  },
  {
   "cell_type": "markdown",
   "id": "d4fc3d5b-d9ea-4a5a-b093-1eec6575d0e6",
   "metadata": {},
   "source": [
    "## Step 6: Random Forest (Ensemble Model)\n"
   ]
  },
  {
   "cell_type": "code",
   "execution_count": 7,
   "id": "5b86bf39-1251-4068-bc0b-621d7e3dc221",
   "metadata": {},
   "outputs": [
    {
     "name": "stdout",
     "output_type": "stream",
     "text": [
      "Random Forest Results:\n",
      "              precision    recall  f1-score   support\n",
      "\n",
      "           0       0.46      0.60      0.52      3006\n",
      "           1       0.53      0.39      0.45      3482\n",
      "\n",
      "    accuracy                           0.49      6488\n",
      "   macro avg       0.50      0.50      0.49      6488\n",
      "weighted avg       0.50      0.49      0.48      6488\n",
      "\n"
     ]
    }
   ],
   "source": [
    "rf_model = RandomForestClassifier(n_estimators=200, min_samples_split=50, random_state=1)\n",
    "rf_predictions = backtest(sp500, rf_model, predictors)\n",
    "\n",
    "print(\"Random Forest Results:\")\n",
    "print(classification_report(rf_predictions[\"Target\"], rf_predictions[\"Predictions\"]))\n"
   ]
  },
  {
   "cell_type": "markdown",
   "id": "ab381b1d-7b0b-430d-b3fa-4523f91dd420",
   "metadata": {},
   "source": [
    "## Step 7: Model Comparison\n"
   ]
  },
  {
   "cell_type": "code",
   "execution_count": 10,
   "id": "0f91993a-4a5f-4c4d-b208-123a13872a1a",
   "metadata": {},
   "outputs": [
    {
     "name": "stdout",
     "output_type": "stream",
     "text": [
      "Model Comparison:\n",
      "Logistic Regression Precision: 0.5382\n",
      "Random Forest Precision: 0.5310\n"
     ]
    }
   ],
   "source": [
    "log_reg_precision = precision_score(log_reg_predictions[\"Target\"], log_reg_predictions[\"Predictions\"])\n",
    "rf_precision = precision_score(rf_predictions[\"Target\"], rf_predictions[\"Predictions\"])\n",
    "\n",
    "print(\"Model Comparison:\")\n",
    "print(f\"Logistic Regression Precision: {log_reg_precision:.4f}\")\n",
    "print(f\"Random Forest Precision: {rf_precision:.4f}\")\n"
   ]
  },
  {
   "cell_type": "markdown",
   "id": "b9686b0b-4f82-40cb-927f-b45383d5cb96",
   "metadata": {},
   "source": [
    "## Step 8: Visualization (Actual vs Predicted)\n"
   ]
  },
  {
   "cell_type": "code",
   "execution_count": 11,
   "id": "b4455c62-85ec-40d2-8d40-2ebbd8173f41",
   "metadata": {},
   "outputs": [
    {
     "data": {
      "image/png": "[encoded data removed]",
      "text/plain": [
       "<Figure size 1400x600 with 2 Axes>"
      ]
     },
     "metadata": {},
     "output_type": "display_data"
    }
   ],
   "source": [
    "# Align results for plotting\n",
    "log_reg_results = log_reg_predictions[[\"Target\", \"Predictions\"]].copy()\n",
    "rf_results = rf_predictions[[\"Target\", \"Predictions\"]].copy()\n",
    "\n",
    "fig, axes = plt.subplots(1, 2, figsize=(14,6), sharey=True)\n",
    "\n",
    "# Logistic Regression\n",
    "axes[0].plot(log_reg_results.index, log_reg_results[\"Target\"], label=\"Actual\", alpha=0.7)\n",
    "axes[0].plot(log_reg_results.index, log_reg_results[\"Predictions\"], label=\"Predicted\", alpha=0.7)\n",
    "axes[0].set_title(\"Logistic Regression: Actual vs Predicted\")\n",
    "axes[0].legend()\n",
    "\n",
    "# Random Forest\n",
    "axes[1].plot(rf_results.index, rf_results[\"Target\"], label=\"Actual\", alpha=0.7)\n",
    "axes[1].plot(rf_results.index, rf_results[\"Predictions\"], label=\"Predicted\", alpha=0.7)\n",
    "axes[1].set_title(\"Random Forest: Actual vs Predicted\")\n",
    "axes[1].legend()\n",
    "\n",
    "plt.tight_layout()\n",
    "plt.show()\n"
   ]
  },
  {
   "cell_type": "markdown",
   "id": "504a4058-bd63-41e7-9fcb-7a23d6a386b2",
   "metadata": {},
   "source": [
    "## Step 9: Conclusion & Next Steps\n",
    "\n",
    "- Logistic Regression provides a **baseline model**.  \n",
    "- Random Forest improves performance with higher precision.  \n",
    "- Visual comparison shows Random Forest follows the actual trend better.  \n",
    "\n",
    "🔮 **Future Improvements:**\n",
    "- Add more features (moving averages, RSI, etc.).  \n",
    "- Try deep learning models (LSTMs, GRUs).  \n",
    "- Apply to individual stocks (AAPL, TSLA, etc.).  \n"
   ]
  }
 ],
 "metadata": {
  "kernelspec": {
   "display_name": "Python 3 (ipykernel)",
   "language": "python",
   "name": "python3"
  },
  "language_info": {
   "codemirror_mode": {
    "name": "ipython",
    "version": 3
   },
   "file_extension": ".py",
   "mimetype": "text/x-python",
   "name": "python",
   "nbconvert_exporter": "python",
   "pygments_lexer": "ipython3",
   "version": "3.13.5"
  }
 },
 "nbformat": 4,
 "nbformat_minor": 5
}
